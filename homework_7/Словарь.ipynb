{
 "cells": [
  {
   "cell_type": "markdown",
   "id": "e4d450c2",
   "metadata": {},
   "source": [
    "# Словарь"
   ]
  },
  {
   "cell_type": "markdown",
   "id": "ca42b161",
   "metadata": {
    "ExecuteTime": {
     "end_time": "2024-11-12T17:23:33.620558Z",
     "start_time": "2024-11-12T17:23:33.612887Z"
    }
   },
   "source": [
    "## Порядок сдачи домашнего"
   ]
  },
  {
   "cell_type": "markdown",
   "id": "1ff1df47",
   "metadata": {},
   "source": [
    "Вам требуется создать гит репозиторий куда вы будете складывать все ваши домашние. Под каждое домашнее вы создаете отдельную ветку куда вносите все изменения в рамках домашнего. Как только домашнее готово - создаете пулл реквест (обратите внимание что в пулл реквесте должны быть отражены все изменения в рамках домашнего) или присылаете код в СДО. Ревьювером назначаете http://github.com/michael15346/ и https://github.com/shgpavel . Перед сдачей проверьте код, напишите тесты. Не забудьте про PEP8, например, с помощью flake8. Задание нужно делать в jupyter notebook.\n",
    "\n",
    "**Дедлайн - 25 ноября 10:00**"
   ]
  },
  {
   "cell_type": "markdown",
   "id": "f9fd13a2",
   "metadata": {},
   "source": [
    "Во время лекции мы с вами познакомились с различными реализациями множества и массива. Задача домашнего задания реализовать собственное множество. Операции добавления и удаления должны работать аммортизированное $O(1)$.\n",
    "\n",
    "Пример использования:\n",
    "```python\n",
    "d = Dict()\n",
    "d[\"name\"] = \"Peter\"\n",
    "d[\"age\"] = 25\n",
    "d[\"city\"] = \"Saint-Petersburg\"\n",
    "\n",
    "print(d[\"name\"])\n",
    "Peter\n",
    "\n",
    "print(\"age\" in d)\n",
    "True\n",
    "\n",
    "del d[\"city\"]\n",
    "\n",
    "print(d.keys())\n",
    "['name', 'age']\n",
    "\n",
    "print(d.values())\n",
    "['Peter', 25]\n",
    "\n",
    "print(d.items())\n",
    "[('name', 'Peter'), ('age', 25)]\n",
    "\n",
    "print(d)\n",
    "{'name': 'Peter', 'age': 25}\n",
    "```"
   ]
  },
  {
   "cell_type": "code",
   "execution_count": 1,
   "id": "1f4b4200-ff25-4284-86cc-0c9c2167f068",
   "metadata": {},
   "outputs": [],
   "source": [
    "class Dict:\n",
    "    def __init__(self, size=100):\n",
    "        self._keys = []\n",
    "        self._values = []\n",
    "        self._max_size = size       # Максимальное количество элементов\n",
    "\n",
    "\n",
    "    def __setitem__(self, key, value):\n",
    "        \"\"\"Добавление или обновление значения по ключу.\"\"\"\n",
    "        if key in self._keys:\n",
    "            index = self._keys.index(key)\n",
    "            self._values[index] = value\n",
    "        else:\n",
    "            if len(self._keys) >= self._max_size:\n",
    "                raise ValueError(\"Словарь достиг своего максимального размера.\")\n",
    "            self._keys.append(key)\n",
    "            self._values.append(value)\n",
    "\n",
    "\n",
    "    def __getitem__(self, key):\n",
    "        \"\"\"Получение значения по ключу.\"\"\"\n",
    "        if key not in self._keys:\n",
    "            raise KeyError(f\"Ключ {key} не найден.\")\n",
    "        \n",
    "        index = self._keys.index(key)\n",
    "        return self._values[index]\n",
    "        \n",
    "\n",
    "    def __delitem__(self, key):\n",
    "        \"\"\"Удаление ключа и значения.\"\"\"\n",
    "        if key not in self._keys:\n",
    "            raise KeyError(f\"Ключ {key} не найден.\")\n",
    "        \n",
    "        index = self._keys.index(key)\n",
    "        del self._keys[index]\n",
    "        del self._values[index]         \n",
    "        \n",
    "\n",
    "    def __contains__(self, key):\n",
    "        \"\"\"Проверка наличия ключа.\"\"\"\n",
    "        return key in self._keys\n",
    "\n",
    "\n",
    "    def keys(self):\n",
    "        \"\"\"Получение всех ключей.\"\"\"\n",
    "        return self._keys\n",
    "        \n",
    "\n",
    "    def values(self):\n",
    "        \"\"\"Получение всех значений.\"\"\"\n",
    "        return self._values\n",
    "\n",
    "\n",
    "    def items(self):\n",
    "        \"\"\"Получение всех пар (ключ, значение).\"\"\"\n",
    "        return list(zip(self._keys, self._values))\n",
    "       \n",
    "        \n",
    "    def __repr__(self):\n",
    "        \"\"\"Представление таблицы.\"\"\"\n",
    "        return \"{\" + \", \".join(f\"{repr(key)}: {repr(value)}\" for key, value in self.items()) + \"}\""
   ]
  },
  {
   "cell_type": "code",
   "execution_count": 2,
   "id": "dd1f7073",
   "metadata": {},
   "outputs": [
    {
     "name": "stdout",
     "output_type": "stream",
     "text": [
      "Peter\n",
      "True\n",
      "['name', 'age']\n",
      "['Peter', 25]\n",
      "[('name', 'Peter'), ('age', 25)]\n",
      "{'name': 'Peter', 'age': 25}\n"
     ]
    }
   ],
   "source": [
    "d = Dict()\n",
    "d[\"name\"] = \"Peter\"\n",
    "d[\"age\"] = 25\n",
    "d[\"city\"] = \"Saint-Petersburg\"\n",
    "\n",
    "print(d[\"name\"])        # Ожидается Peter\n",
    "\n",
    "print(\"age\" in d)       # Ожидается True\n",
    "\n",
    "del d[\"city\"]\n",
    "\n",
    "print(d.keys())         # Ожидается ['name', 'age']\n",
    "\n",
    "print(d.values())       # Ожидается ['Peter', 25]\n",
    "\n",
    "print(d.items())        # Ожидается [('name', 'Peter'), ('age', 25)]\n",
    "\n",
    "print(d)                # Ожидается {'name': 'Peter', 'age': 25}"
   ]
  }
 ],
 "metadata": {
  "kernelspec": {
   "display_name": "venv",
   "language": "python",
   "name": "python3"
  },
  "language_info": {
   "codemirror_mode": {
    "name": "ipython",
    "version": 3
   },
   "file_extension": ".py",
   "mimetype": "text/x-python",
   "name": "python",
   "nbconvert_exporter": "python",
   "pygments_lexer": "ipython3",
   "version": "3.13.0"
  }
 },
 "nbformat": 4,
 "nbformat_minor": 5
}
