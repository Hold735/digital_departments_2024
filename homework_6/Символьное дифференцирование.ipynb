{
 "cells": [
  {
   "cell_type": "markdown",
   "id": "e4d450c2",
   "metadata": {},
   "source": [
    "# Символьное дифференцирование"
   ]
  },
  {
   "cell_type": "markdown",
   "id": "ca42b161",
   "metadata": {
    "ExecuteTime": {
     "end_time": "2024-11-12T17:23:33.620558Z",
     "start_time": "2024-11-12T17:23:33.612887Z"
    }
   },
   "source": [
    "## Порядок сдачи домашнего"
   ]
  },
  {
   "cell_type": "markdown",
   "id": "1ff1df47",
   "metadata": {},
   "source": [
    "Вам требуется создать гит репозиторий куда вы будете складывать все ваши домашние. Под каждое домашнее вы создаете отдельную ветку куда вносите все изменения в рамках домашнего. Как только домашнее готово - создаете пулл реквест (обратите внимание что в пулл реквесте должны быть отражены все изменения в рамках домашнего) или присылаете код в СДО. Ревьювером назначаете http://github.com/michael15346/ и https://github.com/shgpavel . Перед сдачей проверьте код, напишите тесты. Не забудьте про PEP8, например, с помощью flake8. Задание нужно делать в jupyter notebook.\n",
    "\n",
    "**Дедлайн - 18 ноября 10:00**"
   ]
  },
  {
   "cell_type": "markdown",
   "id": "f9fd13a2",
   "metadata": {},
   "source": [
    "Символьное дифференцирование это инструмент для автоматического вывода формул производных, который открывает возможности для анализа сложных функций, оптимизации процессов и работы с уравнениями. Мы уже на многих занятиях сталкивались с этой темой - давайте попробуем реализовать собственное!"
   ]
  },
  {
   "cell_type": "markdown",
   "id": "cf3ccecf",
   "metadata": {},
   "source": [
    "## Выражение"
   ]
  },
  {
   "cell_type": "markdown",
   "id": "096fa612",
   "metadata": {},
   "source": [
    "Создадим основной класс `Expr`, от которого будут наследоваться различные типы выражений, такие как константы, переменные, суммы, произведения и другие. Класс должен содержать методы:\n",
    "* `__call__`, который будет вычислять значение выражения, используя переданный ему контекст (словарь, связывающий имена переменных с их значениями).\n",
    "* `d`, принимающий имя переменной, по которой требуется вычислить производную, и возвращающий выражение, представляющее производную по этой переменной.\n",
    "\n",
    "Эти методы нужно будет переопределить в каждом из подклассов для корректного выполнения операций."
   ]
  },
  {
   "cell_type": "code",
   "execution_count": 1,
   "id": "7c73322e",
   "metadata": {
    "ExecuteTime": {
     "end_time": "2024-11-12T16:51:15.514301Z",
     "start_time": "2024-11-12T16:51:15.489368Z"
    }
   },
   "outputs": [],
   "source": [
    "class Expr:\n",
    "    __slots__ = [\"value\", \"name\"]\n",
    "\n",
    "    def __call__(self, **context):\n",
    "        pass\n",
    "    \n",
    "    def d(self, wrt):\n",
    "        pass\n",
    "\n",
    "    # Перегурзка операторов\n",
    "    def __neg__(self):\n",
    "        return Product(Const(-1), self)\n",
    "\n",
    "    def __pos__(self):\n",
    "        return self\n",
    "\n",
    "    def __add__(self, other):\n",
    "        return Sum(self, other)\n",
    "\n",
    "    def __sub__(self, other):\n",
    "        return Sum(self, Product(Const(-1), other))\n",
    "\n",
    "    def __mul__(self, other, **context):\n",
    "        return Product(self, other)\n",
    "\n",
    "    def __truediv__(self, other):\n",
    "        return Fraction(self, other)"
   ]
  },
  {
   "cell_type": "markdown",
   "id": "1a3f58d5",
   "metadata": {},
   "source": [
    "Создайте классы для двух видов выражений: `Const`, представляющий константу, и` Var`, представляющий переменную. Чтобы упростить использование, вместо обращения к конструкторам этих классов, будем использовать их однобуквенные сокращённые обозначения.\n",
    "\n",
    "**Пример использования:**\n",
    "```python\n",
    "V = Var\n",
    "C = Const\n",
    "\n",
    "C(5)()\n",
    "5\n",
    "C(5).d(V(\"x\"))()\n",
    "0\n",
    "V(\"x\")(x=5)\n",
    "5\n",
    "V(\"x\").d(V(\"y\"))(x=5)\n",
    "0\n",
    "V(\"x\").d(V(\"x\"))(x=5)\n",
    "1\n",
    "```"
   ]
  },
  {
   "cell_type": "code",
   "execution_count": 2,
   "id": "aa4e32b4",
   "metadata": {
    "ExecuteTime": {
     "end_time": "2024-11-12T16:42:49.906141Z",
     "start_time": "2024-11-12T16:42:49.888604Z"
    }
   },
   "outputs": [],
   "source": [
    "class Const(Expr):\n",
    "    def __init__(self, value):\n",
    "        self.value = value\n",
    "\n",
    "    def __call__(self, **context):\n",
    "        return self.value\n",
    "    \n",
    "    def d(self, wrt):\n",
    "        # Производная констракты равна 0\n",
    "        return Const(0)\n",
    "\n",
    "\n",
    "class Var(Expr):\n",
    "    def __init__(self, name):\n",
    "        self.name = name\n",
    "\n",
    "    def __call__(self, **context):\n",
    "        return context.get(self.name, 0)\n",
    "    \n",
    "    def d(self, wrt):\n",
    "        # Производная переменной по себе равна 1, иначе 0\n",
    "        if self.name == wrt.name:\n",
    "            return Const(1)\n",
    "        return Const(0)\n",
    "\n",
    "\n",
    "V = Var\n",
    "C = Const"
   ]
  },
  {
   "cell_type": "code",
   "execution_count": 3,
   "id": "9066a8c4",
   "metadata": {},
   "outputs": [
    {
     "name": "stdout",
     "output_type": "stream",
     "text": [
      "5\n",
      "0\n",
      "5\n",
      "0\n",
      "1\n"
     ]
    }
   ],
   "source": [
    "print(\n",
    "    C(5)(), \n",
    "    C(5).d(V(\"x\"))(), \n",
    "    V(\"x\")(x=5), \n",
    "    V(\"x\").d(V(\"y\"))(x=5), \n",
    "    V(\"x\").d(V(\"x\"))(x=5), \n",
    "    sep='\\n')"
   ]
  },
  {
   "cell_type": "markdown",
   "id": "4a4c72ce",
   "metadata": {},
   "source": [
    "## Бинарные операции"
   ]
  },
  {
   "cell_type": "markdown",
   "id": "f87be166",
   "metadata": {},
   "source": [
    "Создайте классы для бинарных операций: `Sum`, `Product` и `Fraction`. Поскольку бинарные операции определяются двумя операндами, их конструктор будет одинаковым для всех этих классов. Поэтому его можно вынести в отдельный базовый класс, чтобы избежать дублирования кода."
   ]
  },
  {
   "cell_type": "code",
   "execution_count": 4,
   "id": "6aaf6b13",
   "metadata": {
    "ExecuteTime": {
     "end_time": "2024-11-12T16:51:24.856165Z",
     "start_time": "2024-11-12T16:51:24.844203Z"
    }
   },
   "outputs": [],
   "source": [
    "class BinOp(Expr):\n",
    "    def __init__(self, expr1, expr2):\n",
    "        self.expr1, self.expr2 = expr1, expr2"
   ]
  },
  {
   "cell_type": "markdown",
   "id": "3e335e95",
   "metadata": {},
   "source": [
    "Реализуйте `Sum` для суммирования, `Product` для умножения и `Fraction` для деления.\n",
    "\n",
    "**Пример использования:**\n",
    "\n",
    "```python\n",
    "Sum(V(\"x\"), Fraction(V(\"x\"), V(\"y\")))(x=5, y=2.5)\n",
    "7.0\n",
    "Fraction(Sum(C(5), V(\"y\")), Product(V(\"x\"), V(\"y\")))(x=1, y=2)\n",
    "3.5\n",
    "Fraction(Sum(C(5), V(\"y\")), Product(V(\"x\"), V(\"y\"))).d(V(\"x\"))(x=1, y=2)\n",
    "-3.5\n",
    "Fraction(Sum(C(5), V(\"y\")), Product(V(\"x\"), V(\"y\"))).d(V(\"y\"))(x=1, y=2)\n",
    "-1.25\n",
    "```"
   ]
  },
  {
   "cell_type": "code",
   "execution_count": 5,
   "id": "cc5c5599",
   "metadata": {},
   "outputs": [],
   "source": [
    "class Sum(BinOp):\n",
    "    def __call__(self, **context):\n",
    "        return self.expr1(**context) + self.expr2(**context)\n",
    "    \n",
    "    def d(self, wrt):\n",
    "        return Sum(self.expr1.d(wrt), self.expr2.d(wrt))\n",
    "\n",
    "\n",
    "class Product(BinOp):\n",
    "    def __call__(self, **context):\n",
    "        return self.expr1(**context) * self.expr2(**context)\n",
    "    \n",
    "    def d(self, wrt):\n",
    "        return Sum(Product(self.expr1.d(wrt), self.expr2), Product(self.expr1, self.expr2.d(wrt)))\n",
    "    \n",
    "\n",
    "class Fraction(BinOp):\n",
    "    def __call__(self, **context):\n",
    "        return self.expr1(**context) / self.expr2(**context)\n",
    "\n",
    "    def d(self, wrt):\n",
    "        numerator = Sum(Product(self.expr1.d(wrt), self.expr2), Product(Const(-1), Product(self.expr1, self.expr2.d(wrt))))\n",
    "        denominator = Product(self.expr2, self.expr2)\n",
    "        return Fraction(numerator, denominator)"
   ]
  },
  {
   "cell_type": "code",
   "execution_count": 6,
   "id": "ce5728fc",
   "metadata": {},
   "outputs": [
    {
     "name": "stdout",
     "output_type": "stream",
     "text": [
      "7.0\n",
      "3.5\n",
      "-3.5\n",
      "-1.25\n"
     ]
    }
   ],
   "source": [
    "print(\n",
    "    Sum(V(\"x\"), Fraction(V(\"x\"), V(\"y\")))(x=5, y=2.5), \n",
    "    Fraction(Sum(C(5), V(\"y\")), Product(V(\"x\"), V(\"y\")))(x=1, y=2), \n",
    "    Fraction(Sum(C(5), V(\"y\")), Product(V(\"x\"), V(\"y\"))).d(V(\"x\"))(x=1, y=2), \n",
    "    Fraction(Sum(C(5), V(\"y\")), Product(V(\"x\"), V(\"y\"))).d(V(\"y\"))(x=1, y=2), \n",
    "    sep='\\n')"
   ]
  },
  {
   "cell_type": "markdown",
   "id": "68648251",
   "metadata": {},
   "source": [
    "## Перегрузка операторов"
   ]
  },
  {
   "cell_type": "markdown",
   "id": "49be6b43",
   "metadata": {
    "ExecuteTime": {
     "end_time": "2024-11-12T16:56:10.954760Z",
     "start_time": "2024-11-12T16:56:10.934054Z"
    }
   },
   "source": [
    "Добавьте перегрузку операторов в базовых класс `Expr`. Обратите что в классах мы можем тоже заменить на использование операторов.\n",
    "```python  \n",
    "-e         e.__neg__()\n",
    "+e         e.__pos__()\n",
    "e1 + e2    e1.__add__(e2)\n",
    "e1 - e2    e1.__sub__(e2)\n",
    "e1 * e2    e1.__mul__(e2)\n",
    "e1 / e2    e1.__truediv__(e2)\n",
    "```\n",
    "\n",
    "**Пример использования:**\n",
    "\n",
    "```python\n",
    "(V(\"x\") * V(\"x\") / V(\"y\"))(x=5, y=2.5)\n",
    "10.0\n",
    "```"
   ]
  },
  {
   "cell_type": "code",
   "execution_count": 7,
   "id": "cdfa4e90",
   "metadata": {},
   "outputs": [
    {
     "data": {
      "text/plain": [
       "10.0"
      ]
     },
     "execution_count": 7,
     "metadata": {},
     "output_type": "execute_result"
    }
   ],
   "source": [
    "(V(\"x\") * V(\"x\") / V(\"y\"))(x=5, y=2.5)"
   ]
  },
  {
   "cell_type": "markdown",
   "id": "d8c4e847",
   "metadata": {
    "ExecuteTime": {
     "end_time": "2024-11-12T17:15:20.644716Z",
     "start_time": "2024-11-12T17:15:20.631450Z"
    }
   },
   "source": [
    "## Метод Ньютона-Рафсона"
   ]
  },
  {
   "cell_type": "markdown",
   "id": "c2ff4b5b",
   "metadata": {},
   "source": [
    "Напишите функцию `newton_raphson`, которая принимает дифференцируемую функцию  $f$  от переменной  $x$ , начальное приближение  $x_0$ , и положительное число  $\\epsilon$ , задающее точность вычислений. Функция должна возвращать значение  $x$ , при котором  $f(x)$  становится равным нулю. Метод Ньютона-Рафсона выполняет итеративный поиск корня функции  $f(x)$ , начиная с начального значения  $x_0$ , и использует правило  \n",
    "$$x_{n+1} = x_n - \\frac{f(x_n)}{f{\\prime}(x_n)}$$  \n",
    "для обновления  $x$  на каждом шаге. Итерации продолжаются до тех пор, пока условие остановки  $|x_{n+1} - x_n| \\leq \\epsilon$  не будет выполнено.\n",
    "\n",
    "**Пример использования:**\n",
    "\n",
    "```python\n",
    "x = Var(\"x\")\n",
    "f = Const(-5) * x * x * x * x * x + Const(3) * x + Const(2)\n",
    "zero = newton_raphson(f, 0.5, eps=1e-4)\n",
    "zero, f(x=zero)\n",
    "(1.000000000001132, -2.490496697760136e-11)\n",
    "```"
   ]
  },
  {
   "cell_type": "code",
   "execution_count": 8,
   "id": "5e185229",
   "metadata": {},
   "outputs": [
    {
     "data": {
      "text/plain": [
       "(1.0000000000000653, -1.4384049507043528e-12)"
      ]
     },
     "execution_count": 8,
     "metadata": {},
     "output_type": "execute_result"
    }
   ],
   "source": [
    "def newton_raphson(expr, x0, eps=1e-4):\n",
    "    \"\"\"\n",
    "    Алгоритм ищет корень функции методом Ньютона-Рафсона.\n",
    "\n",
    "    :param expr: Выражение для поиска корня.\n",
    "    :param x0: Начальное приближение.\n",
    "    :param eps: Точность вычислений.\n",
    "\n",
    "    :return: Приближённое значение корня.\n",
    "    \"\"\"\n",
    "    x = x0\n",
    "    while True:\n",
    "        # Значение функции и её производной в текущей точке\n",
    "        f_val = expr(x=x)\n",
    "        f_derivative = expr.d(Var(\"x\"))(x=x)\n",
    "        \n",
    "        # Обновляем x\n",
    "        next_x = x - f_val / f_derivative\n",
    "        \n",
    "        if abs(next_x - x) <= eps:\n",
    "            return next_x\n",
    "        \n",
    "        x = next_x\n",
    "\n",
    "x = Var(\"x\")\n",
    "f = Const(-5) * x * x * x * x * x + Const(3) * x + Const(2)\n",
    "zero = newton_raphson(f, 0.5, eps=1e-4)\n",
    "zero, f(x=zero)"
   ]
  }
 ],
 "metadata": {
  "kernelspec": {
   "display_name": "venv",
   "language": "python",
   "name": "python3"
  },
  "language_info": {
   "codemirror_mode": {
    "name": "ipython",
    "version": 3
   },
   "file_extension": ".py",
   "mimetype": "text/x-python",
   "name": "python",
   "nbconvert_exporter": "python",
   "pygments_lexer": "ipython3",
   "version": "3.13.0"
  }
 },
 "nbformat": 4,
 "nbformat_minor": 5
}
